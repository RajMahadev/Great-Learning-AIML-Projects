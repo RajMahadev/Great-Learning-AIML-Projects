{
 "cells": [
  {
   "cell_type": "markdown",
   "metadata": {
    "colab_type": "text",
    "id": "xT7MKZuMRaCg"
   },
   "source": [
    "# Sentiment Classification\n"
   ]
  },
  {
   "cell_type": "markdown",
   "metadata": {
    "colab_type": "text",
    "id": "Wq4RCyyPSYRp"
   },
   "source": [
    "## Loading the dataset"
   ]
  },
  {
   "cell_type": "code",
   "execution_count": 1,
   "metadata": {},
   "outputs": [],
   "source": [
    "import warnings\n",
    "warnings.filterwarnings('ignore')"
   ]
  },
  {
   "cell_type": "code",
   "execution_count": 2,
   "metadata": {
    "colab": {},
    "colab_type": "code",
    "id": "NGCtiXUhSWss"
   },
   "outputs": [
    {
     "name": "stderr",
     "output_type": "stream",
     "text": [
      "Using TensorFlow backend.\n"
     ]
    }
   ],
   "source": [
    "from keras.datasets import imdb\n",
    "import numpy as np\n",
    "\n",
    "vocab_size = 10000 #vocab size\n",
    "\n",
    "(x_train, y_train), (x_test, y_test) = imdb.load_data(num_words = vocab_size) # vocab_size is no.of words to consider from the dataset, ordering based on frequency."
   ]
  },
  {
   "cell_type": "code",
   "execution_count": 3,
   "metadata": {
    "colab": {},
    "colab_type": "code",
    "id": "fCPC_WN-eCyw"
   },
   "outputs": [],
   "source": [
    "from keras.preprocessing.sequence import pad_sequences\n",
    "vocab_size = 10000 #vocab size\n",
    "maxlen = 300  #number of word used from each review"
   ]
  },
  {
   "cell_type": "markdown",
   "metadata": {
    "colab_type": "text",
    "id": "qMEsHYrWxdtk"
   },
   "source": [
    "## Train test split"
   ]
  },
  {
   "cell_type": "code",
   "execution_count": 4,
   "metadata": {
    "colab": {},
    "colab_type": "code",
    "id": "h0g381XzeCyz"
   },
   "outputs": [],
   "source": [
    "#load dataset as a list of ints\n",
    "(x_train, y_train), (x_test, y_test) = imdb.load_data(num_words=vocab_size)\n",
    "#make all sequences of the same length\n",
    "x_train = pad_sequences(x_train, maxlen=maxlen)\n",
    "x_test =  pad_sequences(x_test, maxlen=maxlen)"
   ]
  },
  {
   "cell_type": "code",
   "execution_count": 5,
   "metadata": {
    "colab": {},
    "colab_type": "code",
    "id": "Jy6n-uM2eCy2"
   },
   "outputs": [
    {
     "name": "stdout",
     "output_type": "stream",
     "text": [
      "X_train contains 25000 rows and 300 columns.\n",
      "y_train contains 25000 rows.\n",
      "X_test contains 25000 rows and 300 columns.\n",
      "y_test contains 25000 rows.\n"
     ]
    }
   ],
   "source": [
    "print ('X_train contains', x_train.shape[0], 'rows and', x_train.shape[1], 'columns.')\n",
    "print ('y_train contains', y_train.shape[0], 'rows.')\n",
    "print ('X_test contains', x_test.shape[0], 'rows and', x_test.shape[1], 'columns.')\n",
    "print ('y_test contains', y_test.shape[0], 'rows.')"
   ]
  },
  {
   "cell_type": "code",
   "execution_count": 6,
   "metadata": {
    "colab": {},
    "colab_type": "code",
    "id": "tZhMAgaNeCy5"
   },
   "outputs": [
    {
     "name": "stdout",
     "output_type": "stream",
     "text": [
      "Maximum value of a word index: 9999\n",
      "Maximum length num words of review in train: 300\n"
     ]
    }
   ],
   "source": [
    "train_len = [len(sequence) for sequence in x_train]\n",
    "test_len = [len(sequence) for sequence in x_test]\n",
    "print('Maximum value of a word index:', max([max(sequence) for sequence in x_train]))\n",
    "print('Maximum length num words of review in train:', max([len(sequence) for sequence in x_train]))"
   ]
  },
  {
   "cell_type": "code",
   "execution_count": 7,
   "metadata": {},
   "outputs": [
    {
     "name": "stdout",
     "output_type": "stream",
     "text": [
      "? ? ? ? ? ? ? ? ? ? ? ? ? ? ? ? ? ? ? ? ? ? ? ? ? ? ? ? ? ? ? ? ? ? ? ? ? ? ? ? ? ? ? ? ? ? ? ? ? ? ? ? ? ? ? ? ? ? ? ? ? ? ? ? ? ? ? ? ? ? ? ? who made this film i love this film somebody has a wacky sense of humor br br this zany surreal style of film making is appealing but it is hard to create or easy to forget that substance and characters who actually have souls are what give such a film depth without that a comedy is just a bunch of ideas who cares it may get laughs but it goes through you like a half good ? next br br ? may not intend to change ? life but i appreciate the depth and substance they sneak up on you i started this film thinking oh i get it indie comedy off the wall ? ? and it is that but if you pay attention there is sub text and character moments filling it out in this sense the film ? it makes ? that give pause if you're available to see them and then of course it goes on its insanely merry way br br you will miss the point if you don't sign the contract to suspend belief at moments in the film stepping between reality and ? is one of the points of this movie br br ? isn't perfect but smart people made it i want more br br the ? room scenes are an absolute hoot br br put on your seat belt\n",
      "The sentiment for the above review is: Positive\n",
      "\n",
      "\n",
      "reminding her that he is no longer in charge masters agrees to let her work in the ? position but the good doctor may not be who she seems br br the assortment of ? includes sam bill ? a simple minded child man who was last victim of ? jennifer warren a woman who needs an adult to comfort her as she ? at ? ? like a puppy danny jessie ? a trouble making annoyance often trying to steal the fake baby of disturbed harriet ? ? ? betty chandler a sexy ? who just wants to be loved and ? at any man she sees sergeant hugh your typical case of soldier who hasn't escaped the madness of war br br the film shows ? ? methods of running the clinic with allowing the patients to ? free with the doors to all rooms without locks calling into question and not to mention the fact that oliver is still allowed to walk around despite just ? dr ? with an axe and what exactly happened to dr ? ah ha br br tacky 70's drive in trash is a lot of fun if you are into a ? brand of cinema i'm attracted to bizarre flicks about mental rejects because of their unpredictable nature you just never know what the hell might happen especially in this case where they are allowed to ? often ? some consider the low budget a ? but in the case of this film i think it enhances the experience with the cheap photography and weak production values being shot for ? in a run down house in some awful location it seems ? and i felt like a ? ? into insanity through a camera lens on the outside looking in\n",
      "The sentiment for the above review is: Positive\n"
     ]
    }
   ],
   "source": [
    "unique, counts = np.unique(np.concatenate((y_train, y_test)), return_counts=True)\n",
    "sentiments = {1: 'Positive', 0: 'Negative'}\n",
    "\n",
    "def interprete_review(sequence):\n",
    "    id_to_word = dict([(value, key) for (key, value) in imdb.get_word_index().items()])\n",
    "    decoded_review = ' '.join([id_to_word.get(idx-3, '?') for idx in sequence])\n",
    "    print(decoded_review)\n",
    "    \n",
    "review_id1 = np.random.choice(train_len)\n",
    "interprete_review(x_train[review_id1])\n",
    "print('The sentiment for the above review is:', sentiments.get(y_train[review_id1]))\n",
    "print('\\n')\n",
    "review_id2 = np.random.choice(test_len)\n",
    "interprete_review(x_test[review_id2])\n",
    "print('The sentiment for the above review is:', sentiments.get(y_test[review_id2]))"
   ]
  },
  {
   "cell_type": "markdown",
   "metadata": {
    "colab_type": "text",
    "id": "dybtUgUReCy8"
   },
   "source": [
    "## Build Keras Embedding Layer Model\n",
    "We can think of the Embedding layer as a dicionary that maps a index assigned to a word to a word vector. This layer is very flexible and can be used in a few ways:\n",
    "\n",
    "* The embedding layer can be used at the start of a larger deep learning model. \n",
    "* Also we could load pre-train word embeddings into the embedding layer when we create our model.\n",
    "* Use the embedding layer to train our own word2vec models.\n",
    "\n",
    "The keras embedding layer doesn't require us to onehot encode our words, instead we have to give each word a unqiue intger number as an id. For the imdb dataset we've loaded this has already been done, but if this wasn't the case we could use sklearn [LabelEncoder](http://scikit-learn.org/stable/modules/generated/sklearn.preprocessing.LabelEncoder.html)."
   ]
  },
  {
   "cell_type": "code",
   "execution_count": 8,
   "metadata": {},
   "outputs": [],
   "source": [
    "import seaborn as sns\n",
    "import matplotlib.pyplot as plt\n",
    "%matplotlib inline\n",
    "\n",
    "import keras.backend as K\n",
    "from keras.datasets import imdb\n",
    "from keras.models import Sequential\n",
    "from keras.layers import Dropout, Flatten, Dense, Embedding, LSTM\n",
    "from keras.constraints import max_norm, unit_norm\n",
    "from keras.preprocessing.sequence import pad_sequences\n",
    "\n",
    "# Evaluation metrics\n",
    "from sklearn.metrics import confusion_matrix, classification_report, roc_curve, auc, accuracy_score, precision_recall_curve"
   ]
  },
  {
   "cell_type": "markdown",
   "metadata": {},
   "source": [
    "### Artificial Neural Network"
   ]
  },
  {
   "cell_type": "code",
   "execution_count": 9,
   "metadata": {
    "colab": {},
    "colab_type": "code",
    "id": "A5OLM4eBeCy9"
   },
   "outputs": [
    {
     "name": "stdout",
     "output_type": "stream",
     "text": [
      "Model: \"sequential_1\"\n",
      "_________________________________________________________________\n",
      "Layer (type)                 Output Shape              Param #   \n",
      "=================================================================\n",
      "embedding_1 (Embedding)      (None, 300, 300)          3000000   \n",
      "_________________________________________________________________\n",
      "flatten_1 (Flatten)          (None, 90000)             0         \n",
      "_________________________________________________________________\n",
      "dense_1 (Dense)              (None, 1)                 90001     \n",
      "=================================================================\n",
      "Total params: 3,090,001\n",
      "Trainable params: 3,090,001\n",
      "Non-trainable params: 0\n",
      "_________________________________________________________________\n"
     ]
    }
   ],
   "source": [
    "embedding_dim = 300\n",
    "# Build the network\n",
    "ann = Sequential()\n",
    "ann.add(Embedding(input_dim = vocab_size, output_dim = embedding_dim, input_length = maxlen))\n",
    "ann.add(Flatten())\n",
    "ann.add(Dense(1, activation = 'sigmoid'))\n",
    "ann.compile(optimizer = 'adam', loss = 'binary_crossentropy', metrics = ['accuracy'])\n",
    "ann.summary()"
   ]
  },
  {
   "cell_type": "code",
   "execution_count": 10,
   "metadata": {
    "colab": {},
    "colab_type": "code",
    "id": "TxNDNhrseCzA"
   },
   "outputs": [
    {
     "name": "stdout",
     "output_type": "stream",
     "text": [
      "Train on 20000 samples, validate on 5000 samples\n",
      "Epoch 1/5\n",
      "20000/20000 [==============================] - 8s 381us/step - loss: 0.6524 - accuracy: 0.6197 - val_loss: 0.5276 - val_accuracy: 0.7736\n",
      "Epoch 2/5\n",
      "20000/20000 [==============================] - 8s 385us/step - loss: 0.3539 - accuracy: 0.8715 - val_loss: 0.3277 - val_accuracy: 0.8666\n",
      "Epoch 3/5\n",
      "20000/20000 [==============================] - 8s 381us/step - loss: 0.1940 - accuracy: 0.9365 - val_loss: 0.2955 - val_accuracy: 0.8762\n",
      "Epoch 4/5\n",
      "20000/20000 [==============================] - 8s 388us/step - loss: 0.1174 - accuracy: 0.9739 - val_loss: 0.2791 - val_accuracy: 0.8822\n",
      "Epoch 5/5\n",
      "20000/20000 [==============================] - 8s 382us/step - loss: 0.0702 - accuracy: 0.9905 - val_loss: 0.2808 - val_accuracy: 0.8864\n"
     ]
    }
   ],
   "source": [
    "epochs = 5\n",
    "batches = 512\n",
    "#using 20% of data as validation set\n",
    "history = ann.fit(x_train, y_train, epochs = epochs, batch_size = batches, validation_split = 0.2)"
   ]
  },
  {
   "cell_type": "code",
   "execution_count": 11,
   "metadata": {
    "colab": {},
    "colab_type": "code",
    "id": "L3CSVVPPeCzD"
   },
   "outputs": [
    {
     "name": "stdout",
     "output_type": "stream",
     "text": [
      "25000/25000 [==============================] - 4s 150us/step\n",
      "Training Loss: 0.0952 and Accuracy: 97.38%\n",
      "25000/25000 [==============================] - 4s 151us/step\n",
      "Test Loss: 0.2892 and Accuracy: 87.95%\n"
     ]
    }
   ],
   "source": [
    "tr_loss, tr_acc = ann.evaluate(x_train, y_train)\n",
    "print('Training Loss: %.4f and Accuracy: %.2f%%' % (tr_loss, tr_acc * 100))\n",
    "\n",
    "loss, acc = ann.evaluate(x_test, y_test)\n",
    "print('Test Loss: %.4f and Accuracy: %.2f%%' % (loss, acc * 100))"
   ]
  },
  {
   "cell_type": "markdown",
   "metadata": {},
   "source": [
    "**Observations**:\n",
    " - ANN seems to be working good 87.95% test score.\n",
    " - However, we can clearly see the differences for loss and accuracy between the training and validation sets. This indicates      that the model is overfitting."
   ]
  },
  {
   "cell_type": "code",
   "execution_count": 12,
   "metadata": {},
   "outputs": [
    {
     "name": "stdout",
     "output_type": "stream",
     "text": [
      "Testing accuracy: 87.952\n",
      "\n",
      " Confusion matrix:\n",
      " [[11148  1352]\n",
      " [ 1660 10840]]\n"
     ]
    },
    {
     "data": {
      "text/plain": [
       "Text(0.5, 1, 'Confusion Matrix HeatMap')"
      ]
     },
     "execution_count": 12,
     "metadata": {},
     "output_type": "execute_result"
    },
    {
     "data": {
      "image/png": "[encoded data removed]",
      "text/plain": [
       "<Figure size 360x360 with 2 Axes>"
      ]
     },
     "metadata": {
      "needs_background": "light"
     },
     "output_type": "display_data"
    }
   ],
   "source": [
    "y_pred = ann.predict_classes(x_test)\n",
    "\n",
    "print('Testing accuracy:', (accuracy_score(y_test, y_pred) * 100))\n",
    "\n",
    "cfm_ann = confusion_matrix(y_test, y_pred)\n",
    "print('\\n Confusion matrix:\\n', cfm_ann)\n",
    "\n",
    "plt.figure(figsize = (5, 5))\n",
    "sns.heatmap(cfm_ann, annot = True, cmap = 'RdYlGn', fmt = 'd')\n",
    "plt.xlabel('Actual Classes', fontsize = 15)\n",
    "plt.ylabel('Predicted Classes', fontsize = 15)\n",
    "plt.title('Confusion Matrix HeatMap', fontsize = 15)"
   ]
  },
  {
   "cell_type": "code",
   "execution_count": 13,
   "metadata": {},
   "outputs": [
    {
     "name": "stdout",
     "output_type": "stream",
     "text": [
      "Classification report:\n",
      "               precision    recall  f1-score   support\n",
      "\n",
      "           0       0.87      0.89      0.88     12500\n",
      "           1       0.89      0.87      0.88     12500\n",
      "\n",
      "    accuracy                           0.88     25000\n",
      "   macro avg       0.88      0.88      0.88     25000\n",
      "weighted avg       0.88      0.88      0.88     25000\n",
      "\n"
     ]
    }
   ],
   "source": [
    "print('Classification report:\\n', (classification_report(y_test, y_pred)))"
   ]
  },
  {
   "cell_type": "code",
   "execution_count": 14,
   "metadata": {},
   "outputs": [],
   "source": [
    "def plot_prec_recall_vs_thresh(precisions, recalls, thresholds):\n",
    "    plt.figure(figsize=(10,5))\n",
    "    plt.plot(thresholds, precisions[:-1], 'b--', label='precision')\n",
    "    plt.plot(thresholds, recalls[:-1], 'g--', label = 'recall')\n",
    "    plt.xlabel('Threshold')\n",
    "    plt.legend()"
   ]
  },
  {
   "cell_type": "code",
   "execution_count": 15,
   "metadata": {},
   "outputs": [
    {
     "name": "stdout",
     "output_type": "stream",
     "text": [
      "Precision-Recall Curve\n"
     ]
    },
    {
     "data": {
      "image/png": "[encoded data removed]",
      "text/plain": [
       "<Figure size 720x360 with 1 Axes>"
      ]
     },
     "metadata": {
      "needs_background": "light"
     },
     "output_type": "display_data"
    }
   ],
   "source": [
    "y_proba = ann.predict_proba(x_test)\n",
    "print('Precision-Recall Curve')\n",
    "precision, recall, thresholds = precision_recall_curve(y_test, y_proba)\n",
    "plot_prec_recall_vs_thresh(precision, recall, thresholds)"
   ]
  },
  {
   "cell_type": "markdown",
   "metadata": {},
   "source": [
    "### Recurrent Neural Network (LSTM)"
   ]
  },
  {
   "cell_type": "code",
   "execution_count": 16,
   "metadata": {},
   "outputs": [
    {
     "name": "stdout",
     "output_type": "stream",
     "text": [
      "Model: \"sequential_2\"\n",
      "_________________________________________________________________\n",
      "Layer (type)                 Output Shape              Param #   \n",
      "=================================================================\n",
      "embedding_2 (Embedding)      (None, 300, 300)          3000000   \n",
      "_________________________________________________________________\n",
      "dropout_1 (Dropout)          (None, 300, 300)          0         \n",
      "_________________________________________________________________\n",
      "lstm_1 (LSTM)                (None, 128)               219648    \n",
      "_________________________________________________________________\n",
      "dense_2 (Dense)              (None, 150)               19350     \n",
      "_________________________________________________________________\n",
      "dropout_2 (Dropout)          (None, 150)               0         \n",
      "_________________________________________________________________\n",
      "dense_3 (Dense)              (None, 1)                 151       \n",
      "=================================================================\n",
      "Total params: 3,239,149\n",
      "Trainable params: 3,239,149\n",
      "Non-trainable params: 0\n",
      "_________________________________________________________________\n"
     ]
    }
   ],
   "source": [
    "lstm = Sequential()\n",
    "lstm.add(Embedding(input_dim = vocab_size, output_dim = embedding_dim, input_length = maxlen))\n",
    "lstm.add(Dropout(0.2))\n",
    "lstm.add(LSTM(128, activation = 'tanh', dropout = 0.2,\n",
    "               kernel_constraint = unit_norm(),\n",
    "               recurrent_constraint = unit_norm(),\n",
    "               bias_constraint = unit_norm()))\n",
    "lstm.add(Dense(150, activation = 'relu')) \n",
    "lstm.add(Dropout(0.2))\n",
    "lstm.add(Dense(1, activation = 'sigmoid'))\n",
    "lstm.compile(optimizer = 'adam', loss = 'binary_crossentropy', metrics = ['accuracy'])\n",
    "lstm.summary()"
   ]
  },
  {
   "cell_type": "code",
   "execution_count": 17,
   "metadata": {},
   "outputs": [
    {
     "name": "stdout",
     "output_type": "stream",
     "text": [
      "Train on 20000 samples, validate on 5000 samples\n",
      "Epoch 1/5\n",
      "20000/20000 [==============================] - 235s 12ms/step - loss: 0.4610 - accuracy: 0.7742 - val_loss: 0.3272 - val_accuracy: 0.8662\n",
      "Epoch 2/5\n",
      "20000/20000 [==============================] - 249s 12ms/step - loss: 0.2664 - accuracy: 0.8961 - val_loss: 0.3159 - val_accuracy: 0.8692\n",
      "Epoch 3/5\n",
      "20000/20000 [==============================] - 254s 13ms/step - loss: 0.1832 - accuracy: 0.9317 - val_loss: 0.3374 - val_accuracy: 0.8544\n",
      "Epoch 4/5\n",
      "20000/20000 [==============================] - 248s 12ms/step - loss: 0.1310 - accuracy: 0.9523 - val_loss: 0.4055 - val_accuracy: 0.8562\n",
      "Epoch 5/5\n",
      "20000/20000 [==============================] - 251s 13ms/step - loss: 0.1173 - accuracy: 0.9571 - val_loss: 0.4703 - val_accuracy: 0.8602\n"
     ]
    }
   ],
   "source": [
    "epochs = 5\n",
    "batches = 128\n",
    "#using 20% of data as validation set\n",
    "history = lstm.fit(x_train, y_train, epochs = epochs, batch_size = batches, validation_split = 0.2) "
   ]
  },
  {
   "cell_type": "code",
   "execution_count": 18,
   "metadata": {},
   "outputs": [
    {
     "name": "stdout",
     "output_type": "stream",
     "text": [
      "25000/25000 [==============================] - 88s 4ms/step\n",
      "Training Loss: 0.1338 and Accuracy: 96.00%\n",
      "25000/25000 [==============================] - 88s 4ms/step\n",
      "Test Loss: 0.4922 and Accuracy: 85.64%\n"
     ]
    }
   ],
   "source": [
    "tr_loss, tr_acc = lstm.evaluate(x_train, y_train)\n",
    "print('Training Loss: %.4f and Accuracy: %.2f%%' % (tr_loss, tr_acc * 100))\n",
    "\n",
    "loss, acc = lstm.evaluate(x_test, y_test)\n",
    "print('Test Loss: %.4f and Accuracy: %.2f%%' % (loss, acc * 100))"
   ]
  },
  {
   "cell_type": "markdown",
   "metadata": {},
   "source": [
    "**Observations**:\n",
    " - LSTM seems to be working good 85.64% test score.\n",
    " - However, we can clearly see the differences for loss and accuracy between the training and validation sets. This indicates      that the model is overfitting."
   ]
  },
  {
   "cell_type": "code",
   "execution_count": 19,
   "metadata": {},
   "outputs": [
    {
     "name": "stdout",
     "output_type": "stream",
     "text": [
      "\n",
      "Testing accuracy: 85.64\n",
      "\n",
      " Confusion matrix:\n",
      " [[10966  1534]\n",
      " [ 2056 10444]]\n"
     ]
    },
    {
     "data": {
      "text/plain": [
       "Text(0.5, 1, 'Confusion Matrix HeatMap')"
      ]
     },
     "execution_count": 19,
     "metadata": {},
     "output_type": "execute_result"
    },
    {
     "data": {
      "image/png": "[encoded data removed]",
      "text/plain": [
       "<Figure size 360x360 with 2 Axes>"
      ]
     },
     "metadata": {
      "needs_background": "light"
     },
     "output_type": "display_data"
    }
   ],
   "source": [
    "y_pred = lstm.predict_classes(x_test)\n",
    "\n",
    "print('\\nTesting accuracy:', (accuracy_score(y_test, y_pred) * 100))\n",
    "\n",
    "cfm_lstm = confusion_matrix(y_test, y_pred)\n",
    "print('\\n Confusion matrix:\\n', cfm_lstm)\n",
    "\n",
    "plt.figure(figsize = (5, 5))\n",
    "sns.heatmap(cfm_lstm, annot = True, cmap = 'RdYlGn', fmt = 'd')\n",
    "plt.xlabel('Actual Classes', fontsize = 15)\n",
    "plt.ylabel('Predicted Classes', fontsize = 15)\n",
    "plt.title('Confusion Matrix HeatMap', fontsize = 15)"
   ]
  },
  {
   "cell_type": "code",
   "execution_count": 20,
   "metadata": {},
   "outputs": [
    {
     "name": "stdout",
     "output_type": "stream",
     "text": [
      "Classification report:\n",
      "               precision    recall  f1-score   support\n",
      "\n",
      "           0       0.84      0.88      0.86     12500\n",
      "           1       0.87      0.84      0.85     12500\n",
      "\n",
      "    accuracy                           0.86     25000\n",
      "   macro avg       0.86      0.86      0.86     25000\n",
      "weighted avg       0.86      0.86      0.86     25000\n",
      "\n"
     ]
    }
   ],
   "source": [
    "print('Classification report:\\n', (classification_report(y_test, y_pred)))"
   ]
  },
  {
   "cell_type": "code",
   "execution_count": 21,
   "metadata": {},
   "outputs": [
    {
     "name": "stdout",
     "output_type": "stream",
     "text": [
      "Precision-Recall Curve\n"
     ]
    },
    {
     "data": {
      "image/png": "[encoded data removed]",
      "text/plain": [
       "<Figure size 720x360 with 1 Axes>"
      ]
     },
     "metadata": {
      "needs_background": "light"
     },
     "output_type": "display_data"
    }
   ],
   "source": [
    "y_proba = lstm.predict_proba(x_test)\n",
    "print('Precision-Recall Curve')\n",
    "precision, recall, thresholds = precision_recall_curve(y_test, y_proba)\n",
    "plot_prec_recall_vs_thresh(precision, recall, thresholds)"
   ]
  },
  {
   "cell_type": "code",
   "execution_count": 22,
   "metadata": {},
   "outputs": [
    {
     "name": "stdout",
     "output_type": "stream",
     "text": [
      "reminding her that he is no longer in charge masters agrees to let her work in the ? position but the good doctor may not be who she seems br br the assortment of ? includes sam bill ? a simple minded child man who was last victim of ? jennifer warren a woman who needs an adult to comfort her as she ? at ? ? like a puppy danny jessie ? a trouble making annoyance often trying to steal the fake baby of disturbed harriet ? ? ? betty chandler a sexy ? who just wants to be loved and ? at any man she sees sergeant hugh your typical case of soldier who hasn't escaped the madness of war br br the film shows ? ? methods of running the clinic with allowing the patients to ? free with the doors to all rooms without locks calling into question and not to mention the fact that oliver is still allowed to walk around despite just ? dr ? with an axe and what exactly happened to dr ? ah ha br br tacky 70's drive in trash is a lot of fun if you are into a ? brand of cinema i'm attracted to bizarre flicks about mental rejects because of their unpredictable nature you just never know what the hell might happen especially in this case where they are allowed to ? often ? some consider the low budget a ? but in the case of this film i think it enhances the experience with the cheap photography and weak production values being shot for ? in a run down house in some awful location it seems ? and i felt like a ? ? into insanity through a camera lens on the outside looking in\n",
      "ACTUAL sentiment: Positive\n",
      "PREDICTED sentiment: Negative\n"
     ]
    }
   ],
   "source": [
    "# Predicting the sentiment for a random pre-defined review from IMDB dataset\n",
    "review_id = np.random.choice(test_len)\n",
    "interprete_review(x_test[review_id])\n",
    "print('ACTUAL sentiment:', sentiments.get(y_test[review_id]))\n",
    "\n",
    "prediction = lstm.predict_classes(pad_sequences([x_test[review_id]], maxlen = maxlen))\n",
    "print('PREDICTED sentiment:', sentiments.get(prediction[0][0]))"
   ]
  },
  {
   "cell_type": "markdown",
   "metadata": {
    "colab_type": "text",
    "id": "Igq8Qm8GeCzG"
   },
   "source": [
    "## Retrive the output of each layer in keras for a given single test sample from the trained model you built"
   ]
  },
  {
   "cell_type": "code",
   "execution_count": 23,
   "metadata": {},
   "outputs": [
    {
     "name": "stdout",
     "output_type": "stream",
     "text": [
      "Number of layers:  6\n"
     ]
    }
   ],
   "source": [
    "def getLayerOutput(layer):\n",
    "    get_Layer_Output = K.function([lstm.layers[0].input], [layer.output])\n",
    "    return get_Layer_Output([x_test[0:1,]])[0]\n",
    "\n",
    "layer_output = []\n",
    "\n",
    "for layer in lstm.layers:\n",
    "    layer_output.append(getLayerOutput(layer)) \n",
    "print('Number of layers: ', len(layer_output))"
   ]
  },
  {
   "cell_type": "markdown",
   "metadata": {},
   "source": [
    "First Layer"
   ]
  },
  {
   "cell_type": "code",
   "execution_count": 24,
   "metadata": {},
   "outputs": [
    {
     "data": {
      "text/plain": [
       "array([[[-0.04600979,  0.05687004,  0.0541437 , ...,  0.02336666,\n",
       "         -0.01689279,  0.03023888],\n",
       "        [-0.04600979,  0.05687004,  0.0541437 , ...,  0.02336666,\n",
       "         -0.01689279,  0.03023888],\n",
       "        [-0.04600979,  0.05687004,  0.0541437 , ...,  0.02336666,\n",
       "         -0.01689279,  0.03023888],\n",
       "        ...,\n",
       "        [ 0.03308086,  0.01463704,  0.02404016, ..., -0.02637682,\n",
       "          0.00324587,  0.03152347],\n",
       "        [ 0.0258281 ,  0.00520924,  0.05482312, ...,  0.00676691,\n",
       "          0.02192018, -0.03070826],\n",
       "        [ 0.07136095, -0.06934713, -0.06874968, ...,  0.07189719,\n",
       "         -0.02909005,  0.00921396]]], dtype=float32)"
      ]
     },
     "execution_count": 24,
     "metadata": {},
     "output_type": "execute_result"
    }
   ],
   "source": [
    "layer_output[0]"
   ]
  },
  {
   "cell_type": "markdown",
   "metadata": {},
   "source": [
    "Second Layer"
   ]
  },
  {
   "cell_type": "code",
   "execution_count": 25,
   "metadata": {},
   "outputs": [
    {
     "data": {
      "text/plain": [
       "array([[[-0.04600979,  0.05687004,  0.0541437 , ...,  0.02336666,\n",
       "         -0.01689279,  0.03023888],\n",
       "        [-0.04600979,  0.05687004,  0.0541437 , ...,  0.02336666,\n",
       "         -0.01689279,  0.03023888],\n",
       "        [-0.04600979,  0.05687004,  0.0541437 , ...,  0.02336666,\n",
       "         -0.01689279,  0.03023888],\n",
       "        ...,\n",
       "        [ 0.03308086,  0.01463704,  0.02404016, ..., -0.02637682,\n",
       "          0.00324587,  0.03152347],\n",
       "        [ 0.0258281 ,  0.00520924,  0.05482312, ...,  0.00676691,\n",
       "          0.02192018, -0.03070826],\n",
       "        [ 0.07136095, -0.06934713, -0.06874968, ...,  0.07189719,\n",
       "         -0.02909005,  0.00921396]]], dtype=float32)"
      ]
     },
     "execution_count": 25,
     "metadata": {},
     "output_type": "execute_result"
    }
   ],
   "source": [
    "layer_output[1]"
   ]
  },
  {
   "cell_type": "markdown",
   "metadata": {},
   "source": [
    "Third Layer"
   ]
  },
  {
   "cell_type": "code",
   "execution_count": 26,
   "metadata": {},
   "outputs": [
    {
     "data": {
      "text/plain": [
       "array([[ 0.01465092,  0.00150848,  0.03858656,  0.09951133,  0.10603142,\n",
       "        -0.17450692, -0.01842631,  0.04627249, -0.07267568, -0.06789155,\n",
       "        -0.13843375,  0.06273872,  0.07964303, -0.08275598, -0.10260823,\n",
       "         0.14570592, -0.00679269, -0.09925042,  0.0302361 , -0.04031031,\n",
       "        -0.13470316,  0.00819963, -0.01704836,  0.0576844 ,  0.07803832,\n",
       "         0.01449214, -0.02640571,  0.11244917, -0.00255682,  0.03306483,\n",
       "        -0.0216875 , -0.15333396, -0.09788684, -0.05940216,  0.02818561,\n",
       "         0.04185301, -0.03087132, -0.04196547, -0.05019698, -0.01900594,\n",
       "         0.01377458,  0.0297521 , -0.05793287,  0.02311623, -0.0694814 ,\n",
       "         0.10167489,  0.11021487, -0.11720751,  0.06525832,  0.08449246,\n",
       "        -0.02947626,  0.06382833, -0.02149672, -0.0392676 ,  0.04805572,\n",
       "        -0.06864006, -0.02077019, -0.08611925,  0.05675567, -0.07186709,\n",
       "         0.02566888,  0.01303599,  0.05514632, -0.01413956,  0.01255608,\n",
       "         0.06668299,  0.0574863 ,  0.09437095,  0.03189562, -0.13968448,\n",
       "         0.04495063,  0.05457426,  0.00635704, -0.09351809,  0.00864803,\n",
       "        -0.01869974, -0.09859219, -0.01176725, -0.05268721,  0.08445992,\n",
       "        -0.08145074,  0.15769817,  0.0127597 ,  0.08106305, -0.05596998,\n",
       "         0.11545315,  0.04173495, -0.0794623 , -0.06742077, -0.135173  ,\n",
       "        -0.10257011, -0.017141  , -0.12662779,  0.02544428, -0.11805581,\n",
       "         0.03451253,  0.08834211, -0.11369106, -0.04071642, -0.04565858,\n",
       "        -0.00937579, -0.03824841, -0.01705196, -0.05500042, -0.0457031 ,\n",
       "        -0.04467962,  0.03868495, -0.05591963,  0.04505055,  0.02182597,\n",
       "         0.02482451,  0.03243184, -0.01883256,  0.030734  , -0.00667486,\n",
       "         0.08634307, -0.03824471, -0.1317816 , -0.00089998, -0.0970715 ,\n",
       "        -0.09577377, -0.13963513, -0.16214938,  0.07697793, -0.13547052,\n",
       "        -0.14196174, -0.0033583 , -0.0199488 ]], dtype=float32)"
      ]
     },
     "execution_count": 26,
     "metadata": {},
     "output_type": "execute_result"
    }
   ],
   "source": [
    "layer_output[2]"
   ]
  },
  {
   "cell_type": "markdown",
   "metadata": {},
   "source": [
    "Fourth Layer"
   ]
  },
  {
   "cell_type": "code",
   "execution_count": 27,
   "metadata": {},
   "outputs": [
    {
     "data": {
      "text/plain": [
       "array([[0.        , 0.        , 0.        , 0.        , 0.56989837,\n",
       "        0.36116347, 0.        , 0.        , 0.4650783 , 0.        ,\n",
       "        0.        , 0.        , 0.41387692, 0.        , 0.26730984,\n",
       "        0.4492946 , 0.        , 0.39270884, 0.        , 0.        ,\n",
       "        0.        , 0.42044833, 0.        , 0.        , 0.        ,\n",
       "        0.376233  , 0.34405696, 0.4655919 , 0.        , 0.33408293,\n",
       "        0.3695579 , 0.        , 0.4738658 , 0.        , 0.        ,\n",
       "        0.45933646, 0.32021165, 0.40302   , 0.47862205, 0.49069923,\n",
       "        0.        , 0.        , 0.47534007, 0.        , 0.43859902,\n",
       "        0.        , 0.48179042, 0.        , 0.        , 0.37146586,\n",
       "        0.291933  , 0.        , 0.10202432, 0.3875678 , 0.        ,\n",
       "        0.        , 0.3392171 , 0.39093527, 0.        , 0.32987836,\n",
       "        0.00299991, 0.        , 0.5021954 , 0.42885688, 0.4097584 ,\n",
       "        0.45439503, 0.        , 0.381155  , 0.        , 0.        ,\n",
       "        0.        , 0.4923333 , 0.37180424, 0.        , 0.        ,\n",
       "        0.        , 0.        , 0.        , 0.        , 0.29018658,\n",
       "        0.3791383 , 0.        , 0.        , 0.        , 0.34028   ,\n",
       "        0.        , 0.49038282, 0.370931  , 0.        , 0.        ,\n",
       "        0.34423032, 0.        , 0.        , 0.        , 0.25352392,\n",
       "        0.30973744, 0.        , 0.4733105 , 0.        , 0.        ,\n",
       "        0.5158673 , 0.35015726, 0.        , 0.        , 0.        ,\n",
       "        0.36179987, 0.20520926, 0.35140377, 0.        , 0.3737268 ,\n",
       "        0.3428299 , 0.40008256, 0.        , 0.38453317, 0.        ,\n",
       "        0.32142854, 0.24108607, 0.35141635, 0.        , 0.        ,\n",
       "        0.        , 0.27594644, 0.35330996, 0.24986097, 0.53333765,\n",
       "        0.        , 0.        , 0.42799756, 0.        , 0.42473993,\n",
       "        0.        , 0.5391453 , 0.48700422, 0.39197809, 0.        ,\n",
       "        0.        , 0.        , 0.        , 0.        , 0.4576355 ,\n",
       "        0.41513133, 0.        , 0.        , 0.34961048, 0.38028204,\n",
       "        0.29569995, 0.34883446, 0.        , 0.3835883 , 0.4916828 ]],\n",
       "      dtype=float32)"
      ]
     },
     "execution_count": 27,
     "metadata": {},
     "output_type": "execute_result"
    }
   ],
   "source": [
    "layer_output[3]"
   ]
  },
  {
   "cell_type": "markdown",
   "metadata": {},
   "source": [
    "Fifth Layer"
   ]
  },
  {
   "cell_type": "code",
   "execution_count": 28,
   "metadata": {},
   "outputs": [
    {
     "data": {
      "text/plain": [
       "array([[0.        , 0.        , 0.        , 0.        , 0.56989837,\n",
       "        0.36116347, 0.        , 0.        , 0.4650783 , 0.        ,\n",
       "        0.        , 0.        , 0.41387692, 0.        , 0.26730984,\n",
       "        0.4492946 , 0.        , 0.39270884, 0.        , 0.        ,\n",
       "        0.        , 0.42044833, 0.        , 0.        , 0.        ,\n",
       "        0.376233  , 0.34405696, 0.4655919 , 0.        , 0.33408293,\n",
       "        0.3695579 , 0.        , 0.4738658 , 0.        , 0.        ,\n",
       "        0.45933646, 0.32021165, 0.40302   , 0.47862205, 0.49069923,\n",
       "        0.        , 0.        , 0.47534007, 0.        , 0.43859902,\n",
       "        0.        , 0.48179042, 0.        , 0.        , 0.37146586,\n",
       "        0.291933  , 0.        , 0.10202432, 0.3875678 , 0.        ,\n",
       "        0.        , 0.3392171 , 0.39093527, 0.        , 0.32987836,\n",
       "        0.00299991, 0.        , 0.5021954 , 0.42885688, 0.4097584 ,\n",
       "        0.45439503, 0.        , 0.381155  , 0.        , 0.        ,\n",
       "        0.        , 0.4923333 , 0.37180424, 0.        , 0.        ,\n",
       "        0.        , 0.        , 0.        , 0.        , 0.29018658,\n",
       "        0.3791383 , 0.        , 0.        , 0.        , 0.34028   ,\n",
       "        0.        , 0.49038282, 0.370931  , 0.        , 0.        ,\n",
       "        0.34423032, 0.        , 0.        , 0.        , 0.25352392,\n",
       "        0.30973744, 0.        , 0.4733105 , 0.        , 0.        ,\n",
       "        0.5158673 , 0.35015726, 0.        , 0.        , 0.        ,\n",
       "        0.36179987, 0.20520926, 0.35140377, 0.        , 0.3737268 ,\n",
       "        0.3428299 , 0.40008256, 0.        , 0.38453317, 0.        ,\n",
       "        0.32142854, 0.24108607, 0.35141635, 0.        , 0.        ,\n",
       "        0.        , 0.27594644, 0.35330996, 0.24986097, 0.53333765,\n",
       "        0.        , 0.        , 0.42799756, 0.        , 0.42473993,\n",
       "        0.        , 0.5391453 , 0.48700422, 0.39197809, 0.        ,\n",
       "        0.        , 0.        , 0.        , 0.        , 0.4576355 ,\n",
       "        0.41513133, 0.        , 0.        , 0.34961048, 0.38028204,\n",
       "        0.29569995, 0.34883446, 0.        , 0.3835883 , 0.4916828 ]],\n",
       "      dtype=float32)"
      ]
     },
     "execution_count": 28,
     "metadata": {},
     "output_type": "execute_result"
    }
   ],
   "source": [
    "layer_output[4]"
   ]
  },
  {
   "cell_type": "markdown",
   "metadata": {},
   "source": [
    "Sixth Layer"
   ]
  },
  {
   "cell_type": "code",
   "execution_count": 29,
   "metadata": {},
   "outputs": [
    {
     "data": {
      "text/plain": [
       "array([[0.01542229]], dtype=float32)"
      ]
     },
     "execution_count": 29,
     "metadata": {},
     "output_type": "execute_result"
    }
   ],
   "source": [
    "layer_output[5]"
   ]
  }
 ],
 "metadata": {
  "accelerator": "GPU",
  "colab": {
   "collapsed_sections": [],
   "name": "SeqNLP_Project1_Questions.ipynb",
   "provenance": [],
   "version": "0.3.2"
  },
  "kernelspec": {
   "display_name": "Python 3",
   "language": "python",
   "name": "python3"
  },
  "language_info": {
   "codemirror_mode": {
    "name": "ipython",
    "version": 3
   },
   "file_extension": ".py",
   "mimetype": "text/x-python",
   "name": "python",
   "nbconvert_exporter": "python",
   "pygments_lexer": "ipython3",
   "version": "3.7.3"
  }
 },
 "nbformat": 4,
 "nbformat_minor": 1
}
